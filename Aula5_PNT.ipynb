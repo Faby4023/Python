{
  "nbformat": 4,
  "nbformat_minor": 0,
  "metadata": {
    "colab": {
      "provenance": [],
      "authorship_tag": "ABX9TyO3f+Gs/F6z5O5ij612w81K",
      "include_colab_link": true
    },
    "kernelspec": {
      "name": "python3",
      "display_name": "Python 3"
    },
    "language_info": {
      "name": "python"
    }
  },
  "cells": [
    {
      "cell_type": "markdown",
      "metadata": {
        "id": "view-in-github",
        "colab_type": "text"
      },
      "source": [
        "<a href=\"https://colab.research.google.com/github/Faby4023/Python/blob/main/Aula5_PNT.ipynb\" target=\"_parent\"><img src=\"https://colab.research.google.com/assets/colab-badge.svg\" alt=\"Open In Colab\"/></a>"
      ]
    },
    {
      "cell_type": "code",
      "execution_count": 1,
      "metadata": {
        "colab": {
          "base_uri": "https://localhost:8080/"
        },
        "id": "kAbYda3K6oJH",
        "outputId": "46dcecdc-10c3-4120-e06e-23280e2c00ae"
      },
      "outputs": [
        {
          "output_type": "stream",
          "name": "stdout",
          "text": [
            "<class 'str'>\n"
          ]
        }
      ],
      "source": [
        "#Escola: Cicero Dias\n",
        "#Docente: Clovis Rocha\n",
        "#Estudante: Fabyanna Moreira\n",
        "#Tipos Primitivos de dados\n",
        "F = 'Fabyanna'\n",
        "print(type(F))\n"
      ]
    }
  ]
}