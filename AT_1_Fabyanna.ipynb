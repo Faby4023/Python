{
  "nbformat": 4,
  "nbformat_minor": 0,
  "metadata": {
    "colab": {
      "provenance": [],
      "authorship_tag": "ABX9TyNZ+BwRfNg3a267kmdeYzNL",
      "include_colab_link": true
    },
    "kernelspec": {
      "name": "python3",
      "display_name": "Python 3"
    },
    "language_info": {
      "name": "python"
    }
  },
  "cells": [
    {
      "cell_type": "markdown",
      "metadata": {
        "id": "view-in-github",
        "colab_type": "text"
      },
      "source": [
        "<a href=\"https://colab.research.google.com/github/Faby4023/Python/blob/main/AT_1_Fabyanna.ipynb\" target=\"_parent\"><img src=\"https://colab.research.google.com/assets/colab-badge.svg\" alt=\"Open In Colab\"/></a>"
      ]
    },
    {
      "cell_type": "code",
      "execution_count": 13,
      "metadata": {
        "colab": {
          "base_uri": "https://localhost:8080/"
        },
        "id": "mvSZkDvFDLAk",
        "outputId": "ca1a5c27-cfa7-44f8-a1bd-8cc122dd1f67"
      },
      "outputs": [
        {
          "output_type": "stream",
          "name": "stdout",
          "text": [
            "Olá ETE Cicero Dias!\n"
          ]
        }
      ],
      "source": [
        "#1\n",
        "mensagem = \"Olá ETE Cicero Dias!\"\n",
        "print(mensagem)\n"
      ]
    },
    {
      "cell_type": "code",
      "source": [
        "#2\n",
        "numero = input(\"Digite um numero: \")\n",
        "print(\"O numero digitado foi: \", numero)"
      ],
      "metadata": {
        "colab": {
          "base_uri": "https://localhost:8080/"
        },
        "id": "bxwNUh1lDUxN",
        "outputId": "e8126e15-f18b-493a-8236-0bb0f8fa0b41"
      },
      "execution_count": 15,
      "outputs": [
        {
          "output_type": "stream",
          "name": "stdout",
          "text": [
            "Digite um numero: 5\n",
            "O numero digitado foi:  5\n"
          ]
        }
      ]
    },
    {
      "cell_type": "code",
      "source": [
        "#3\n",
        "numero1 = float(input(\"digite o primeiro numero: \"))\n",
        "numero2 = float(input(\"digite o segundo numero: \"))\n",
        "\n",
        "soma = numero1 + numero2\n",
        "print(\"a soma dos dois numeros é: \",soma)"
      ],
      "metadata": {
        "colab": {
          "base_uri": "https://localhost:8080/"
        },
        "id": "Mz1kKyfGDP33",
        "outputId": "a85f5e31-826c-44a5-97c9-88d71780ae97"
      },
      "execution_count": 7,
      "outputs": [
        {
          "output_type": "stream",
          "name": "stdout",
          "text": [
            "digite o primeiro numero: 5\n",
            "digite o segundo numero: 7\n",
            "a soma dos dois numeros é:  12.0\n"
          ]
        }
      ]
    },
    {
      "cell_type": "code",
      "source": [
        "#4\n",
        "nota1 = float(input(\"digite a primeira nota: \"))\n",
        "nota2 = float(input(\"digite a segunda nota: \"))\n",
        "nota3 = float(input(\"digite a terceira nota: \"))\n",
        "nota4 = float(input(\"digite a quarta nota: \"))\n",
        "\n",
        "media = (nota1 + nota2 + nota3 +nota4)/4\n",
        "print(\" Amedia final é: \", media)"
      ],
      "metadata": {
        "colab": {
          "base_uri": "https://localhost:8080/"
        },
        "id": "F5OGsuvuHpEP",
        "outputId": "aa2a77a9-6f95-4e78-e391-26b6e28e43ce"
      },
      "execution_count": 8,
      "outputs": [
        {
          "output_type": "stream",
          "name": "stdout",
          "text": [
            "digite a primeira nota: 8\n",
            "digite a segunda nota: 7\n",
            "digite a terceira nota: 7\n",
            "digite a quarta nota: 8\n",
            " Amedia final é:  7.5\n"
          ]
        }
      ]
    },
    {
      "cell_type": "code",
      "source": [
        "#5\n",
        "metros = float(input(\"digite o valor em metros: \"))\n",
        "\n",
        "centrimetros=metros*100\n",
        "print(\"O valor em centrimetros é: \", centrimetros)"
      ],
      "metadata": {
        "colab": {
          "base_uri": "https://localhost:8080/"
        },
        "id": "z4DtBlgvI2Ct",
        "outputId": "6cc0ebf5-dae0-40f1-fc9a-49a11f749aa2"
      },
      "execution_count": 9,
      "outputs": [
        {
          "output_type": "stream",
          "name": "stdout",
          "text": [
            "digite o valor em metros: 4\n",
            "O valor em centrimetros é:  400.0\n"
          ]
        }
      ]
    },
    {
      "cell_type": "code",
      "source": [
        "#6\n",
        "import math\n",
        "raio = float(input(\"digite o raio do circulo: \"))\n",
        "\n",
        "area = math.pi*raio**2\n",
        "\n",
        "print(\"A area do circulo é: \", area)"
      ],
      "metadata": {
        "colab": {
          "base_uri": "https://localhost:8080/"
        },
        "id": "mpmxalZsJcb6",
        "outputId": "26d9517e-89f4-4d07-96b0-49b23a608520"
      },
      "execution_count": 12,
      "outputs": [
        {
          "output_type": "stream",
          "name": "stdout",
          "text": [
            "digite o raio do circulo: 5\n",
            "A area do circulo é:  78.53981633974483\n"
          ]
        }
      ]
    },
    {
      "cell_type": "code",
      "source": [
        "#7\n",
        "lado = float(input(\"digite o valor do lado do quadrado: \"))\n",
        "\n",
        "area = lado **2\n",
        "dobro_area = 2 * area\n",
        "\n",
        "print(\"A area do quadrado é: \",area)\n",
        "print(\"O dobro da área é: \", dobro_area)\n",
        "\n"
      ],
      "metadata": {
        "colab": {
          "base_uri": "https://localhost:8080/"
        },
        "id": "TMeStCiHKk1P",
        "outputId": "a0a54507-ff07-402f-d453-6bd8fcbaacfc"
      },
      "execution_count": 11,
      "outputs": [
        {
          "output_type": "stream",
          "name": "stdout",
          "text": [
            "digite o valor do lado do quadrado: 3\n",
            "A area do quadrado é:  9.0\n",
            "O dobro da área é:  18.0\n"
          ]
        }
      ]
    },
    {
      "cell_type": "code",
      "source": [
        "#8\n",
        "valor_por_hora = float(input(\"Digite o valor do seu salário por hora: \"))\n",
        "horas_trabalhadas = float(input(\"Digite o número de horas trabalhadas no mês: \"))\n",
        "\n",
        "salario_mensal = valor_por_hora * horas_trabalhadas\n",
        "\n",
        "print(\"Seu salário mensal é:\", salario_mensal)\n"
      ],
      "metadata": {
        "id": "g6wBCwGQLlxk"
      },
      "execution_count": null,
      "outputs": []
    },
    {
      "cell_type": "code",
      "source": [
        "#9\n",
        "valor = float(input(\"Digite um valor: \"))\n",
        "\n",
        "if valor > 0:\n",
        "    print(\"O valor é positivo.\")\n",
        "elif valor < 0:\n",
        "    print(\"O valor é negativo.\")\n",
        "else:\n",
        "    print(\"O valor é zero.\")\n"
      ],
      "metadata": {
        "colab": {
          "base_uri": "https://localhost:8080/"
        },
        "id": "tyvPiWHPHi9h",
        "outputId": "2345b4bf-0e0b-464b-8d3c-803b893598b2"
      },
      "execution_count": 16,
      "outputs": [
        {
          "output_type": "stream",
          "name": "stdout",
          "text": [
            "Digite um valor: 2\n",
            "O valor é positivo.\n"
          ]
        }
      ]
    },
    {
      "cell_type": "code",
      "source": [
        "# 10\n",
        "letra = input(\"Digite uma letra: \")\n",
        "\n",
        "if letra == \"F\" or letra == \"f\":\n",
        "    print(\"F - Feminino\")\n",
        "elif letra == \"M\" or letra == \"m\":\n",
        "    print(\"M - Masculino\")\n",
        "else:\n",
        "    print(\"Sexo Inválido\")"
      ],
      "metadata": {
        "colab": {
          "base_uri": "https://localhost:8080/"
        },
        "id": "xeRdeKymNN1n",
        "outputId": "2df3bcac-a5e2-4dae-d383-49e96d17eb91"
      },
      "execution_count": 17,
      "outputs": [
        {
          "output_type": "stream",
          "name": "stdout",
          "text": [
            "Digite uma letra: f\n",
            "F - Feminino\n"
          ]
        }
      ]
    }
  ]
}